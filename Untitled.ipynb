{
 "cells": [
  {
   "cell_type": "code",
   "execution_count": null,
   "metadata": {},
   "outputs": [],
   "source": [
    "# Run this cell to load the toy_data and separate training and testing datasets\n",
    "\n",
    "import time\n",
    "import pandas as pd\n",
    "from math import sqrt # HINT for Q6\n",
    "from sklearn.model_selection import train_test_split\n",
    "from sklearn.metrics import accuracy_score\n",
    "\n",
    "toy_data = pd.read_csv('https://raw.githubusercontent.com/timbitz/toy_datasets/main/Interview_data.csv', header=0, sep=';')\n",
    "print(\"Same toy_data we loaded in R, is now in a pandas dataframe:\")\n",
    "print(toy_data.iloc[0:6,])\n",
    "\n",
    "# Split the data now into a 2d vector of values X and a vector of species y\n",
    "# Separate X,y dataset pairs randomly into training and testing sets.\n",
    "X, y = toy_data.values[:,:-1], toy_data.values[:, -1]\n",
    "X_train, X_test, y_train, y_test = train_test_split(X, y, test_size=0.25, stratify=y)\n",
    "print(\"\\nX_test and X_train data are each 2d- lists of lists in python:\")\n",
    "print(X_test[0:6])\n",
    "print(\"\\ny_train and y_test data are each single lists of labels:\")\n",
    "print(y_test[0:6])"
   ]
  },
  {
   "cell_type": "code",
   "execution_count": null,
   "metadata": {},
   "outputs": [],
   "source": [
    "# Intro: Your collaborator sends you the toy_data loaded in the previous cell. It has \n",
    "# multivariate data in the first four columns, and classification labels for each \n",
    "# row in the fifth column.  While they have done the experiments to assign the\n",
    "# classification labels to each row, the future data they will generate will just\n",
    "# be measurements of the first four columns and not contain a classification label.\n",
    "# They have asked you to write code to assign a best classification label to the new\n",
    "# data we generate given the toy_data. An example of such a function is below:\n",
    "\n",
    "# The following function accepts the toy X, y training data, as well as \n",
    "# the X testing data and returns y_hat predictions for the rows\n",
    "def predict_default(X_train, y_train, X_test, **kwargs):\n",
    "  y_hat = []\n",
    "  for i in range(0,len(X_test)):\n",
    "    t = time.time() + i\n",
    "    n = int(t * 10**7)\n",
    "    y_hat.append( y_train[n % len(y_train)] )\n",
    "  return y_hat\n",
    "\n",
    "# You can run this to test the accuracy of `predict`\n",
    "y_hat = predict_default(X_train, y_train, X_test)\n",
    "print('Accuracy: %.3f' % accuracy_score(y_test, y_hat))\n",
    "\n",
    "# (Q5) Breifly explain what is wrong with my prediction function above?\n",
    "\n"
   ]
  },
  {
   "cell_type": "code",
   "execution_count": null,
   "metadata": {},
   "outputs": [],
   "source": [
    "# (Q6) Implement a better 'predict' function using *only* base python syntax and data structures! \n",
    "#.    Assign a y_label to each row in X_test based on the (X, y) training data. The function should \n",
    "#.    be purely algorithmic and should work on a different training set of X,y classification data \n",
    "#.    (eg. it should not rely on any hardcoded values from you looking at the training data by eye)\n",
    "\n",
    "# Hint:  The answer should be fairly simple and intuitive, if your solution seems \n",
    "#.          like it will be overly complex, not possible without external packages, \n",
    "#.          or like it needs >1hr to write, then it is probably wrong.\n",
    "\n",
    "# Rules: a. Do *not* import any packages for this challenge (eg. no sklearn!)\n",
    "#        b. You may add any additional hyperparameters you want as **kwargs\n",
    "#.       c. You may write as many additional sub-functions or classes etc. that you want\n",
    "\n",
    "def predict(X_train, y_train, X_test, **kwargs):\n",
    "  return y_hat\n",
    "\n",
    "\n",
    "\n",
    "\n",
    "\n",
    "\n",
    "\n",
    "\n",
    "# You can run this to test the accuracy of `predict`\n",
    "# For reference, my solution achieved accuracy around 0.95\n",
    "# and took about 20 mins to implement\n",
    "y_hat = predict(X_train, y_train, X_test)\n",
    "print('Accuracy: %.3f' % accuracy_score(y_test, y_hat))"
   ]
  },
  {
   "cell_type": "code",
   "execution_count": null,
   "metadata": {},
   "outputs": [],
   "source": [
    " In this cell, you're allowed to import any python plotting packages you prefer:\n",
    "import matplotlib.pyplot as plt\n",
    "\n",
    "# (Q7) Now plot Accuracy vs. Hyperparameter for thresholds or values you\n",
    "#     pass into **kwargs for your predict function.  \n",
    "#.    What is the optimal choice of hyperparameter?\n",
    "\n",
    "\n",
    "\n",
    "#     In my solution, with hyperparameter k, the plot looked like the example below--"
   ]
  }
 ],
 "metadata": {
  "kernelspec": {
   "display_name": "Python 3",
   "language": "python",
   "name": "python3"
  },
  "language_info": {
   "codemirror_mode": {
    "name": "ipython",
    "version": 3
   },
   "file_extension": ".py",
   "mimetype": "text/x-python",
   "name": "python",
   "nbconvert_exporter": "python",
   "pygments_lexer": "ipython3",
   "version": "3.7.6"
  }
 },
 "nbformat": 4,
 "nbformat_minor": 4
}
